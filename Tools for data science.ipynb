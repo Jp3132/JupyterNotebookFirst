{
 "cells": [
  {
   "cell_type": "markdown",
   "id": "03f2327f",
   "metadata": {},
   "source": [
    "# Title of Your Notebook\n"
   ]
  },
  {
   "cell_type": "markdown",
   "id": "b2e2f86b",
   "metadata": {},
   "source": [
    "## Introduction\n",
    "Write a brief introduction about the content or purpose of your notebook.\n"
   ]
  },
  {
   "cell_type": "markdown",
   "id": "253b5968",
   "metadata": {},
   "source": [
    "## Data Science Languages\n",
    "1. Python\n",
    "2. R\n",
    "3. SQL\n",
    "4. Julia\n",
    "5. Java\n"
   ]
  },
  {
   "cell_type": "markdown",
   "id": "38531cf4",
   "metadata": {},
   "source": [
    "## Data Science Libraries\n",
    "1. Pandas (Python)\n",
    "2. NumPy (Python)\n",
    "3. SciPy (Python)\n",
    "4. scikit-learn (Python)\n",
    "5. TensorFlow (Python)\n",
    "6. Keras (Python)\n",
    "7. ggplot2 (R)\n",
    "8. dplyr (R)\n"
   ]
  },
  {
   "cell_type": "markdown",
   "id": "3940c5f6",
   "metadata": {},
   "source": [
    "## Data Science Tools\n",
    "\n",
    "| Tool Type | Examples |\n",
    "|-----------|----------|\n",
    "| Programming Languages | Python, R, SQL |\n",
    "| Libraries | Pandas, NumPy, TensorFlow |\n",
    "| IDEs | Jupyter, RStudio, PyCharm |\n",
    "| Data Visualization | Matplotlib, ggplot2 |\n",
    "| Machine Learning Frameworks | scikit-learn, TensorFlow |\n"
   ]
  },
  {
   "cell_type": "markdown",
   "id": "ba0628ca",
   "metadata": {},
   "source": [
    "## Arithmetic Expression Examples\n",
    "In this section, we will explore basic arithmetic expressions like addition, subtraction, multiplication, and division.\n"
   ]
  },
  {
   "cell_type": "code",
   "execution_count": 2,
   "id": "ec9dd72e",
   "metadata": {},
   "outputs": [
    {
     "data": {
      "text/plain": [
       "23"
      ]
     },
     "execution_count": 2,
     "metadata": {},
     "output_type": "execute_result"
    }
   ],
   "source": [
    "# Multiplication and Addition\n",
    "result = (3 * 4) + (5 + 6)\n",
    "result\n"
   ]
  },
  {
   "cell_type": "code",
   "execution_count": 3,
   "id": "09e5424d",
   "metadata": {},
   "outputs": [
    {
     "data": {
      "text/plain": [
       "23"
      ]
     },
     "execution_count": 3,
     "metadata": {},
     "output_type": "execute_result"
    }
   ],
   "source": [
    "# Multiplication and Addition\n",
    "result = (3 * 4) + (5 + 6)\n",
    "result\n"
   ]
  },
  {
   "cell_type": "code",
   "execution_count": 4,
   "id": "6132f8c5",
   "metadata": {},
   "outputs": [
    {
     "data": {
      "text/plain": [
       "2.0"
      ]
     },
     "execution_count": 4,
     "metadata": {},
     "output_type": "execute_result"
    }
   ],
   "source": [
    "# Convert Minutes to Hours\n",
    "minutes = 120\n",
    "hours = minutes / 60\n",
    "hours\n"
   ]
  },
  {
   "cell_type": "markdown",
   "id": "83b9a88d",
   "metadata": {},
   "source": [
    "## Objectives\n",
    "1. Objective 1\n",
    "2. Objective 2\n",
    "3. Objective 3\n"
   ]
  },
  {
   "cell_type": "markdown",
   "id": "553125b1",
   "metadata": {},
   "source": [
    "## Author\n",
    "Name: [JAY PATEL]\n"
   ]
  },
  {
   "cell_type": "code",
   "execution_count": null,
   "id": "47d6435d",
   "metadata": {},
   "outputs": [],
   "source": []
  }
 ],
 "metadata": {
  "kernelspec": {
   "display_name": "Python 3 (ipykernel)",
   "language": "python",
   "name": "python3"
  },
  "language_info": {
   "codemirror_mode": {
    "name": "ipython",
    "version": 3
   },
   "file_extension": ".py",
   "mimetype": "text/x-python",
   "name": "python",
   "nbconvert_exporter": "python",
   "pygments_lexer": "ipython3",
   "version": "3.9.12"
  }
 },
 "nbformat": 4,
 "nbformat_minor": 5
}
